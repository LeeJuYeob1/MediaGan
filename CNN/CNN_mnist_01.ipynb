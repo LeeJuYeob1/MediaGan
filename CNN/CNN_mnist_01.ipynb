{
  "nbformat": 4,
  "nbformat_minor": 0,
  "metadata": {
    "colab": {
      "provenance": []
    },
    "kernelspec": {
      "name": "python3",
      "display_name": "Python 3"
    },
    "language_info": {
      "name": "python"
    },
    "accelerator": "GPU",
    "gpuClass": "standard"
  },
  "cells": [
    {
      "cell_type": "code",
      "execution_count": null,
      "metadata": {
        "id": "qUpRNBGK3UjJ"
      },
      "outputs": [],
      "source": [
        "import tensorflow as tf\n",
        "from tensorflow import keras\n",
        "from tensorflow.keras.datasets import mnist\n",
        "from tensorflow.keras import models, Sequential\n",
        "from tensorflow.keras import layers"
      ]
    },
    {
      "cell_type": "code",
      "source": [
        "(x_train, y_train), (x_test, y_test) = mnist.load_data()"
      ],
      "metadata": {
        "id": "5ClXJsjf3iok",
        "colab": {
          "base_uri": "https://localhost:8080/"
        },
        "outputId": "1cbd7e4d-3b7d-4d81-9f5d-c8f638adb360"
      },
      "execution_count": null,
      "outputs": [
        {
          "output_type": "stream",
          "name": "stdout",
          "text": [
            "Downloading data from https://storage.googleapis.com/tensorflow/tf-keras-datasets/mnist.npz\n",
            "11490434/11490434 [==============================] - 2s 0us/step\n"
          ]
        }
      ]
    },
    {
      "cell_type": "code",
      "source": [
        "x_train.shape"
      ],
      "metadata": {
        "colab": {
          "base_uri": "https://localhost:8080/"
        },
        "id": "Oa5Mbx5n4dU3",
        "outputId": "c144056e-0963-4c2d-ff77-5a7223fa5d2d"
      },
      "execution_count": null,
      "outputs": [
        {
          "output_type": "execute_result",
          "data": {
            "text/plain": [
              "(60000, 28, 28)"
            ]
          },
          "metadata": {},
          "execution_count": 3
        }
      ]
    },
    {
      "cell_type": "code",
      "source": [
        "y_train.shape"
      ],
      "metadata": {
        "colab": {
          "base_uri": "https://localhost:8080/"
        },
        "id": "rWX95TGr05bw",
        "outputId": "4012c026-0b70-495b-ffb6-4c823c2fe099"
      },
      "execution_count": null,
      "outputs": [
        {
          "output_type": "execute_result",
          "data": {
            "text/plain": [
              "(60000,)"
            ]
          },
          "metadata": {},
          "execution_count": 4
        }
      ]
    },
    {
      "cell_type": "code",
      "source": [
        "x_train = x_train.reshape((-1, 28,28,1))/255\n",
        "x_test = x_test.reshape((-1, 28,28,1))/255"
      ],
      "metadata": {
        "id": "QXUPfEkb-aow"
      },
      "execution_count": null,
      "outputs": []
    },
    {
      "cell_type": "code",
      "source": [
        "# model = models.Sequential()\n",
        "# #model.add(layers.Conv2D(필터갯수, 필터크기, 보폭 activation='relu', input_shape=(너비, 높이, 채널)))\n",
        "# model.add(layers.Conv2D(32, (3, 3), strides=(1,1), activation='relu', input_shape=(28, 28, 1), padding='same'))\n",
        "# #model.add(layers.MaxPooling2D(pool_size, 보폭, padding='valid'))\n",
        "# model.add(layers.MaxPooling2D((2, 2), strides=(2, 2), padding='valid'))\n",
        "# model.add(layers.Conv2D(64, (3, 3), activation='relu'))\n",
        "# model.add(layers.MaxPooling2D((2, 2)))\n",
        "# model.add(layers.Conv2D(64, (3, 3), activation='relu'))\n",
        "\n",
        "# model.add(layers.Flatten())\n",
        "# model.add(layers.Dense(64, activation='relu'))\n",
        "# model.add(layers.Dense(10, activation='softmax'))"
      ],
      "metadata": {
        "id": "25uNOYJ84JFs"
      },
      "execution_count": null,
      "outputs": []
    },
    {
      "cell_type": "code",
      "source": [
        "inputs = keras.Input(shape=(28, 28, 1))\n",
        "Conv2d_01 = layers.Conv2D(32, (3, 3), activation='relu')(inputs)\n",
        "MaxPooling2D_01 = layers.MaxPooling2D((2, 2))(Conv2d_01)\n",
        "Conv2d_02 = layers.Conv2D(64, (3, 3), activation='relu')(MaxPooling2D_01)\n",
        "MaxPooling2D_02 = layers.MaxPooling2D((2, 2))(Conv2d_02)\n",
        "Conv2d_03 = layers.Conv2D(64, (3, 3), activation='relu')(MaxPooling2D_02)\n",
        "\n",
        "flat = layers.Flatten()(Conv2d_03)\n",
        "Dense_01 = layers.Dense(64, activation='relu')(flat)\n",
        "Dense_02 = layers.Dense(10, activation='softmax')(Dense_01)\n",
        "model = models.Model(inputs = inputs, outputs = Dense_02)"
      ],
      "metadata": {
        "id": "K_PflLzbf7Gc"
      },
      "execution_count": null,
      "outputs": []
    },
    {
      "cell_type": "code",
      "source": [
        "model.summary()"
      ],
      "metadata": {
        "colab": {
          "base_uri": "https://localhost:8080/"
        },
        "id": "_RxpW6JQ-yap",
        "outputId": "81a1656f-ac4c-4196-813d-bffb1adb25f9"
      },
      "execution_count": null,
      "outputs": [
        {
          "output_type": "stream",
          "name": "stdout",
          "text": [
            "Model: \"model\"\n",
            "_________________________________________________________________\n",
            " Layer (type)                Output Shape              Param #   \n",
            "=================================================================\n",
            " input_1 (InputLayer)        [(None, 28, 28, 1)]       0         \n",
            "                                                                 \n",
            " conv2d_3 (Conv2D)           (None, 26, 26, 32)        320       \n",
            "                                                                 \n",
            " max_pooling2d_2 (MaxPooling  (None, 13, 13, 32)       0         \n",
            " 2D)                                                             \n",
            "                                                                 \n",
            " conv2d_4 (Conv2D)           (None, 11, 11, 64)        18496     \n",
            "                                                                 \n",
            " max_pooling2d_3 (MaxPooling  (None, 5, 5, 64)         0         \n",
            " 2D)                                                             \n",
            "                                                                 \n",
            " conv2d_5 (Conv2D)           (None, 3, 3, 64)          36928     \n",
            "                                                                 \n",
            " flatten_1 (Flatten)         (None, 576)               0         \n",
            "                                                                 \n",
            " dense_2 (Dense)             (None, 64)                36928     \n",
            "                                                                 \n",
            " dense_3 (Dense)             (None, 10)                650       \n",
            "                                                                 \n",
            "=================================================================\n",
            "Total params: 93,322\n",
            "Trainable params: 93,322\n",
            "Non-trainable params: 0\n",
            "_________________________________________________________________\n"
          ]
        }
      ]
    },
    {
      "cell_type": "code",
      "source": [
        "model.compile(optimizer='adam', loss='sparse_categorical_crossentropy', metrics=['accuracy'])\n",
        "\n",
        "modelpath =\"/content/drive/MyDrive/Datasets/{epoch:02d}-{val_accuracy:4f}.hdf5\"\n",
        "checkpointer = keras.callbacks.ModelCheckpoint(filepath=modelpath, verbose=1)\n",
        "\n",
        "history = model.fit(x_train, y_train, epochs = 15, validation_split=0.2, batch_size=256, verbose=1, callbacks=[checkpointer])"
      ],
      "metadata": {
        "colab": {
          "base_uri": "https://localhost:8080/"
        },
        "id": "pvCoHSm1K5RR",
        "outputId": "217f09a6-ea82-4483-e778-00600f6c4b85"
      },
      "execution_count": null,
      "outputs": [
        {
          "output_type": "stream",
          "name": "stdout",
          "text": [
            "Epoch 1/15\n",
            "188/188 [==============================] - ETA: 0s - loss: 0.4270 - accuracy: 0.8760\n",
            "Epoch 1: saving model to /content/drive/MyDrive/Datasets/01-0.959583.hdf5\n",
            "188/188 [==============================] - 3s 10ms/step - loss: 0.4270 - accuracy: 0.8760 - val_loss: 0.1339 - val_accuracy: 0.9596\n",
            "Epoch 2/15\n",
            "181/188 [===========================>..] - ETA: 0s - loss: 0.0943 - accuracy: 0.9713\n",
            "Epoch 2: saving model to /content/drive/MyDrive/Datasets/02-0.978500.hdf5\n",
            "188/188 [==============================] - 2s 9ms/step - loss: 0.0938 - accuracy: 0.9716 - val_loss: 0.0765 - val_accuracy: 0.9785\n",
            "Epoch 3/15\n",
            "187/188 [============================>.] - ETA: 0s - loss: 0.0654 - accuracy: 0.9798\n",
            "Epoch 3: saving model to /content/drive/MyDrive/Datasets/03-0.978083.hdf5\n",
            "188/188 [==============================] - 2s 9ms/step - loss: 0.0654 - accuracy: 0.9798 - val_loss: 0.0710 - val_accuracy: 0.9781\n",
            "Epoch 4/15\n",
            "188/188 [==============================] - ETA: 0s - loss: 0.0488 - accuracy: 0.9855\n",
            "Epoch 4: saving model to /content/drive/MyDrive/Datasets/04-0.984750.hdf5\n",
            "188/188 [==============================] - 2s 9ms/step - loss: 0.0488 - accuracy: 0.9855 - val_loss: 0.0546 - val_accuracy: 0.9847\n",
            "Epoch 5/15\n",
            "183/188 [============================>.] - ETA: 0s - loss: 0.0426 - accuracy: 0.9867\n",
            "Epoch 5: saving model to /content/drive/MyDrive/Datasets/05-0.982500.hdf5\n",
            "188/188 [==============================] - 2s 9ms/step - loss: 0.0423 - accuracy: 0.9869 - val_loss: 0.0558 - val_accuracy: 0.9825\n",
            "Epoch 6/15\n",
            "183/188 [============================>.] - ETA: 0s - loss: 0.0344 - accuracy: 0.9888\n",
            "Epoch 6: saving model to /content/drive/MyDrive/Datasets/06-0.984417.hdf5\n",
            "188/188 [==============================] - 2s 8ms/step - loss: 0.0346 - accuracy: 0.9887 - val_loss: 0.0512 - val_accuracy: 0.9844\n",
            "Epoch 7/15\n",
            "183/188 [============================>.] - ETA: 0s - loss: 0.0305 - accuracy: 0.9902\n",
            "Epoch 7: saving model to /content/drive/MyDrive/Datasets/07-0.986083.hdf5\n",
            "188/188 [==============================] - 2s 9ms/step - loss: 0.0303 - accuracy: 0.9902 - val_loss: 0.0440 - val_accuracy: 0.9861\n",
            "Epoch 8/15\n",
            "184/188 [============================>.] - ETA: 0s - loss: 0.0250 - accuracy: 0.9922\n",
            "Epoch 8: saving model to /content/drive/MyDrive/Datasets/08-0.986167.hdf5\n",
            "188/188 [==============================] - 2s 8ms/step - loss: 0.0251 - accuracy: 0.9921 - val_loss: 0.0448 - val_accuracy: 0.9862\n",
            "Epoch 9/15\n",
            "188/188 [==============================] - ETA: 0s - loss: 0.0236 - accuracy: 0.9926\n",
            "Epoch 9: saving model to /content/drive/MyDrive/Datasets/09-0.987333.hdf5\n",
            "188/188 [==============================] - 2s 9ms/step - loss: 0.0236 - accuracy: 0.9926 - val_loss: 0.0412 - val_accuracy: 0.9873\n",
            "Epoch 10/15\n",
            "181/188 [===========================>..] - ETA: 0s - loss: 0.0195 - accuracy: 0.9938\n",
            "Epoch 10: saving model to /content/drive/MyDrive/Datasets/10-0.987417.hdf5\n",
            "188/188 [==============================] - 2s 9ms/step - loss: 0.0196 - accuracy: 0.9938 - val_loss: 0.0439 - val_accuracy: 0.9874\n",
            "Epoch 11/15\n",
            "187/188 [============================>.] - ETA: 0s - loss: 0.0163 - accuracy: 0.9946\n",
            "Epoch 11: saving model to /content/drive/MyDrive/Datasets/11-0.987500.hdf5\n",
            "188/188 [==============================] - 2s 9ms/step - loss: 0.0163 - accuracy: 0.9946 - val_loss: 0.0435 - val_accuracy: 0.9875\n",
            "Epoch 12/15\n",
            "185/188 [============================>.] - ETA: 0s - loss: 0.0138 - accuracy: 0.9956\n",
            "Epoch 12: saving model to /content/drive/MyDrive/Datasets/12-0.988000.hdf5\n",
            "188/188 [==============================] - 2s 8ms/step - loss: 0.0137 - accuracy: 0.9956 - val_loss: 0.0414 - val_accuracy: 0.9880\n",
            "Epoch 13/15\n",
            "181/188 [===========================>..] - ETA: 0s - loss: 0.0114 - accuracy: 0.9964\n",
            "Epoch 13: saving model to /content/drive/MyDrive/Datasets/13-0.988833.hdf5\n",
            "188/188 [==============================] - 2s 8ms/step - loss: 0.0116 - accuracy: 0.9964 - val_loss: 0.0457 - val_accuracy: 0.9888\n",
            "Epoch 14/15\n",
            "184/188 [============================>.] - ETA: 0s - loss: 0.0125 - accuracy: 0.9959\n",
            "Epoch 14: saving model to /content/drive/MyDrive/Datasets/14-0.989417.hdf5\n",
            "188/188 [==============================] - 2s 8ms/step - loss: 0.0126 - accuracy: 0.9959 - val_loss: 0.0386 - val_accuracy: 0.9894\n",
            "Epoch 15/15\n",
            "182/188 [============================>.] - ETA: 0s - loss: 0.0092 - accuracy: 0.9973\n",
            "Epoch 15: saving model to /content/drive/MyDrive/Datasets/15-0.989417.hdf5\n",
            "188/188 [==============================] - 2s 8ms/step - loss: 0.0092 - accuracy: 0.9972 - val_loss: 0.0452 - val_accuracy: 0.9894\n"
          ]
        }
      ]
    },
    {
      "cell_type": "code",
      "source": [
        "from google.colab import drive\n",
        "drive.mount('/content/drive')"
      ],
      "metadata": {
        "colab": {
          "base_uri": "https://localhost:8080/"
        },
        "id": "JRhpAVumbBbP",
        "outputId": "c2a933dc-4bd5-46b8-ec55-295dc4e9e9ef"
      },
      "execution_count": null,
      "outputs": [
        {
          "output_type": "stream",
          "name": "stdout",
          "text": [
            "Drive already mounted at /content/drive; to attempt to forcibly remount, call drive.mount(\"/content/drive\", force_remount=True).\n"
          ]
        }
      ]
    },
    {
      "cell_type": "code",
      "source": [
        "import matplotlib.pyplot as plt\n",
        "import numpy as np\n",
        "\n",
        "y = history.history['loss']\n",
        "y1 = history.history['val_loss']\n",
        "\n",
        "x = np.arange(len(y))\n",
        "\n",
        "plt.figure(figsize=(6, 4))\n",
        "plt.plot(x, y, label='loss')\n",
        "plt.plot(x, y1, label='val_loss')\n",
        "\n",
        "plt.legend()\n",
        "plt.xlabel('epochs')\n",
        "plt.ylabel('loss')\n",
        "plt.show()"
      ],
      "metadata": {
        "colab": {
          "base_uri": "https://localhost:8080/",
          "height": 279
        },
        "id": "BZyg2ubASTQo",
        "outputId": "0db0b29b-a25c-4f5c-cd29-1ac22a2bb369"
      },
      "execution_count": null,
      "outputs": [
        {
          "output_type": "display_data",
          "data": {
            "text/plain": [
              "<Figure size 432x288 with 1 Axes>"
            ],
            "image/png": "[encoded data removed]"
          },
          "metadata": {
            "needs_background": "light"
          }
        }
      ]
    },
    {
      "cell_type": "code",
      "source": [
        "model.evaluate(x_test, y_test)"
      ],
      "metadata": {
        "colab": {
          "base_uri": "https://localhost:8080/"
        },
        "id": "N8QZ3eifUItj",
        "outputId": "91b3b8ff-6984-41c5-a3bd-a2bd652372e0"
      },
      "execution_count": null,
      "outputs": [
        {
          "output_type": "stream",
          "name": "stdout",
          "text": [
            "313/313 [==============================] - 1s 3ms/step - loss: 0.0328 - accuracy: 0.9902\n"
          ]
        },
        {
          "output_type": "execute_result",
          "data": {
            "text/plain": [
              "[0.032845064997673035, 0.9901999831199646]"
            ]
          },
          "metadata": {},
          "execution_count": 18
        }
      ]
    }
  ]
}