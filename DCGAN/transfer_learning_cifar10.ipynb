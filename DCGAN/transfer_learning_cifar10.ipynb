{
  "nbformat": 4,
  "nbformat_minor": 0,
  "metadata": {
    "colab": {
      "provenance": []
    },
    "kernelspec": {
      "name": "python3",
      "display_name": "Python 3"
    },
    "language_info": {
      "name": "python"
    },
    "accelerator": "GPU",
    "gpuClass": "standard"
  },
  "cells": [
    {
      "cell_type": "code",
      "execution_count": 1,
      "metadata": {
        "id": "hFp1k34Ib71-"
      },
      "outputs": [],
      "source": [
        "import numpy as np\n",
        "import matplotlib.pyplot as plt\n",
        "import tensorflow as tf\n",
        "from tensorflow.keras.preprocessing.image import ImageDataGenerator, load_img\n",
        "from tensorflow.keras.applications import VGG16\n",
        "from tensorflow.keras.datasets import cifar10\n",
        "from tensorflow.keras.callbacks import EarlyStopping\n",
        "\n",
        "from tensorflow.keras import models\n",
        "from tensorflow.keras import layers\n",
        "from tensorflow.keras import optimizers"
      ]
    },
    {
      "cell_type": "code",
      "source": [
        "num_classes = 10\n",
        "\n",
        "(x_train, y_train), (x_test, y_test) = cifar10.load_data()\n",
        "\n",
        "y_train = tf.keras.utils.to_categorical(y_train, num_classes)\n",
        "y_test = tf.keras.utils.to_categorical(y_test, num_classes)"
      ],
      "metadata": {
        "id": "5vag_04hcXFn",
        "colab": {
          "base_uri": "https://localhost:8080/"
        },
        "outputId": "e23f6ee0-7998-4fe5-b734-b13c86b0e3c6"
      },
      "execution_count": 2,
      "outputs": [
        {
          "output_type": "stream",
          "name": "stdout",
          "text": [
            "Downloading data from https://www.cs.toronto.edu/~kriz/cifar-10-python.tar.gz\n",
            "170498071/170498071 [==============================] - 15s 0us/step\n"
          ]
        }
      ]
    },
    {
      "cell_type": "code",
      "source": [
        "x_train.shape"
      ],
      "metadata": {
        "colab": {
          "base_uri": "https://localhost:8080/"
        },
        "id": "-z8l9RN12jXG",
        "outputId": "0ef1d540-5ae5-4131-9139-121271ff8756"
      },
      "execution_count": 3,
      "outputs": [
        {
          "output_type": "execute_result",
          "data": {
            "text/plain": [
              "(50000, 32, 32, 3)"
            ]
          },
          "metadata": {},
          "execution_count": 3
        }
      ]
    },
    {
      "cell_type": "code",
      "source": [
        "VGG_conv = VGG16(weights='imagenet', include_top=False, input_shape=(32, 32, 3))\n",
        "VGG_conv.trainable = False\n",
        "VGG_conv.summary()"
      ],
      "metadata": {
        "colab": {
          "base_uri": "https://localhost:8080/"
        },
        "id": "o0vpHx-5chDg",
        "outputId": "d4377454-e754-4986-d3b3-56413628bc38"
      },
      "execution_count": 4,
      "outputs": [
        {
          "output_type": "stream",
          "name": "stdout",
          "text": [
            "Downloading data from https://storage.googleapis.com/tensorflow/keras-applications/vgg16/vgg16_weights_tf_dim_ordering_tf_kernels_notop.h5\n",
            "58889256/58889256 [==============================] - 3s 0us/step\n",
            "Model: \"vgg16\"\n",
            "_________________________________________________________________\n",
            " Layer (type)                Output Shape              Param #   \n",
            "=================================================================\n",
            " input_1 (InputLayer)        [(None, 32, 32, 3)]       0         \n",
            "                                                                 \n",
            " block1_conv1 (Conv2D)       (None, 32, 32, 64)        1792      \n",
            "                                                                 \n",
            " block1_conv2 (Conv2D)       (None, 32, 32, 64)        36928     \n",
            "                                                                 \n",
            " block1_pool (MaxPooling2D)  (None, 16, 16, 64)        0         \n",
            "                                                                 \n",
            " block2_conv1 (Conv2D)       (None, 16, 16, 128)       73856     \n",
            "                                                                 \n",
            " block2_conv2 (Conv2D)       (None, 16, 16, 128)       147584    \n",
            "                                                                 \n",
            " block2_pool (MaxPooling2D)  (None, 8, 8, 128)         0         \n",
            "                                                                 \n",
            " block3_conv1 (Conv2D)       (None, 8, 8, 256)         295168    \n",
            "                                                                 \n",
            " block3_conv2 (Conv2D)       (None, 8, 8, 256)         590080    \n",
            "                                                                 \n",
            " block3_conv3 (Conv2D)       (None, 8, 8, 256)         590080    \n",
            "                                                                 \n",
            " block3_pool (MaxPooling2D)  (None, 4, 4, 256)         0         \n",
            "                                                                 \n",
            " block4_conv1 (Conv2D)       (None, 4, 4, 512)         1180160   \n",
            "                                                                 \n",
            " block4_conv2 (Conv2D)       (None, 4, 4, 512)         2359808   \n",
            "                                                                 \n",
            " block4_conv3 (Conv2D)       (None, 4, 4, 512)         2359808   \n",
            "                                                                 \n",
            " block4_pool (MaxPooling2D)  (None, 2, 2, 512)         0         \n",
            "                                                                 \n",
            " block5_conv1 (Conv2D)       (None, 2, 2, 512)         2359808   \n",
            "                                                                 \n",
            " block5_conv2 (Conv2D)       (None, 2, 2, 512)         2359808   \n",
            "                                                                 \n",
            " block5_conv3 (Conv2D)       (None, 2, 2, 512)         2359808   \n",
            "                                                                 \n",
            " block5_pool (MaxPooling2D)  (None, 1, 1, 512)         0         \n",
            "                                                                 \n",
            "=================================================================\n",
            "Total params: 14,714,688\n",
            "Trainable params: 0\n",
            "Non-trainable params: 14,714,688\n",
            "_________________________________________________________________\n"
          ]
        }
      ]
    },
    {
      "cell_type": "code",
      "source": [
        "model = models.Sequential()\n",
        "\n",
        "model.add(VGG_conv)\n",
        "model.add(layers.Flatten())\n",
        "model.add(layers.Dense(1024, activation='relu'))\n",
        "model.add(layers.Dropout(0.5))\n",
        "model.add(layers.Dense(num_classes, activation='softmax'))\n",
        "model.summary()"
      ],
      "metadata": {
        "colab": {
          "base_uri": "https://localhost:8080/"
        },
        "id": "-hCoaFCHdaI2",
        "outputId": "301e4188-8fde-406c-a2ff-d6f025ee5387"
      },
      "execution_count": 5,
      "outputs": [
        {
          "output_type": "stream",
          "name": "stdout",
          "text": [
            "Model: \"sequential\"\n",
            "_________________________________________________________________\n",
            " Layer (type)                Output Shape              Param #   \n",
            "=================================================================\n",
            " vgg16 (Functional)          (None, 1, 1, 512)         14714688  \n",
            "                                                                 \n",
            " flatten (Flatten)           (None, 512)               0         \n",
            "                                                                 \n",
            " dense (Dense)               (None, 1024)              525312    \n",
            "                                                                 \n",
            " dropout (Dropout)           (None, 1024)              0         \n",
            "                                                                 \n",
            " dense_1 (Dense)             (None, 10)                10250     \n",
            "                                                                 \n",
            "=================================================================\n",
            "Total params: 15,250,250\n",
            "Trainable params: 535,562\n",
            "Non-trainable params: 14,714,688\n",
            "_________________________________________________________________\n"
          ]
        }
      ]
    },
    {
      "cell_type": "code",
      "source": [
        "model.compile(loss='categorical_crossentropy', optimizer=optimizers.Adam(learning_rate=0.0002), metrics=['acc'])"
      ],
      "metadata": {
        "id": "R_LmrvLHePEx"
      },
      "execution_count": 6,
      "outputs": []
    },
    {
      "cell_type": "code",
      "source": [
        "history = model.fit(x_train, y_train, batch_size=256, epochs=100, validation_data=(x_test, y_test))"
      ],
      "metadata": {
        "id": "2oX9zshUeTJn",
        "colab": {
          "base_uri": "https://localhost:8080/"
        },
        "outputId": "9de98b29-acd2-4381-9f08-09fdade111e8"
      },
      "execution_count": 7,
      "outputs": [
        {
          "output_type": "stream",
          "name": "stdout",
          "text": [
            "Epoch 1/100\n",
            "196/196 [==============================] - 17s 43ms/step - loss: 9.2532 - acc: 0.3640 - val_loss: 2.9742 - val_acc: 0.5415\n",
            "Epoch 2/100\n",
            "196/196 [==============================] - 7s 37ms/step - loss: 3.7017 - acc: 0.4536 - val_loss: 1.8817 - val_acc: 0.5455\n",
            "Epoch 3/100\n",
            "196/196 [==============================] - 7s 38ms/step - loss: 2.2286 - acc: 0.4789 - val_loss: 1.5386 - val_acc: 0.5476\n",
            "Epoch 4/100\n",
            "196/196 [==============================] - 7s 38ms/step - loss: 1.7321 - acc: 0.5026 - val_loss: 1.4046 - val_acc: 0.5595\n",
            "Epoch 5/100\n",
            "196/196 [==============================] - 7s 37ms/step - loss: 1.5073 - acc: 0.5300 - val_loss: 1.3391 - val_acc: 0.5677\n",
            "Epoch 6/100\n",
            "196/196 [==============================] - 7s 38ms/step - loss: 1.3643 - acc: 0.5566 - val_loss: 1.3000 - val_acc: 0.5812\n",
            "Epoch 7/100\n",
            "196/196 [==============================] - 7s 38ms/step - loss: 1.2729 - acc: 0.5766 - val_loss: 1.2680 - val_acc: 0.5841\n",
            "Epoch 8/100\n",
            "196/196 [==============================] - 7s 38ms/step - loss: 1.1963 - acc: 0.5962 - val_loss: 1.2405 - val_acc: 0.5923\n",
            "Epoch 9/100\n",
            "196/196 [==============================] - 7s 37ms/step - loss: 1.1383 - acc: 0.6122 - val_loss: 1.2236 - val_acc: 0.5956\n",
            "Epoch 10/100\n",
            "196/196 [==============================] - 7s 37ms/step - loss: 1.0807 - acc: 0.6280 - val_loss: 1.2060 - val_acc: 0.6036\n",
            "Epoch 11/100\n",
            "196/196 [==============================] - 7s 37ms/step - loss: 1.0304 - acc: 0.6463 - val_loss: 1.1925 - val_acc: 0.6114\n",
            "Epoch 12/100\n",
            "196/196 [==============================] - 7s 37ms/step - loss: 0.9970 - acc: 0.6558 - val_loss: 1.1880 - val_acc: 0.6122\n",
            "Epoch 13/100\n",
            "196/196 [==============================] - 7s 37ms/step - loss: 0.9514 - acc: 0.6693 - val_loss: 1.1775 - val_acc: 0.6197\n",
            "Epoch 14/100\n",
            "196/196 [==============================] - 7s 38ms/step - loss: 0.9203 - acc: 0.6806 - val_loss: 1.1748 - val_acc: 0.6178\n",
            "Epoch 15/100\n",
            "196/196 [==============================] - 7s 37ms/step - loss: 0.8831 - acc: 0.6940 - val_loss: 1.1717 - val_acc: 0.6227\n",
            "Epoch 16/100\n",
            "196/196 [==============================] - 7s 37ms/step - loss: 0.8517 - acc: 0.7026 - val_loss: 1.1656 - val_acc: 0.6272\n",
            "Epoch 17/100\n",
            "196/196 [==============================] - 7s 37ms/step - loss: 0.8261 - acc: 0.7123 - val_loss: 1.1639 - val_acc: 0.6291\n",
            "Epoch 18/100\n",
            "196/196 [==============================] - 7s 37ms/step - loss: 0.7941 - acc: 0.7204 - val_loss: 1.1688 - val_acc: 0.6284\n",
            "Epoch 19/100\n",
            "196/196 [==============================] - 7s 37ms/step - loss: 0.7744 - acc: 0.7276 - val_loss: 1.1676 - val_acc: 0.6305\n",
            "Epoch 20/100\n",
            "196/196 [==============================] - 7s 37ms/step - loss: 0.7448 - acc: 0.7401 - val_loss: 1.1650 - val_acc: 0.6320\n",
            "Epoch 21/100\n",
            "196/196 [==============================] - 7s 37ms/step - loss: 0.7214 - acc: 0.7480 - val_loss: 1.1691 - val_acc: 0.6334\n",
            "Epoch 22/100\n",
            "196/196 [==============================] - 7s 37ms/step - loss: 0.7022 - acc: 0.7519 - val_loss: 1.1730 - val_acc: 0.6343\n",
            "Epoch 23/100\n",
            "196/196 [==============================] - 7s 37ms/step - loss: 0.6790 - acc: 0.7605 - val_loss: 1.1802 - val_acc: 0.6355\n",
            "Epoch 24/100\n",
            "196/196 [==============================] - 7s 37ms/step - loss: 0.6532 - acc: 0.7680 - val_loss: 1.1832 - val_acc: 0.6352\n",
            "Epoch 25/100\n",
            "196/196 [==============================] - 7s 37ms/step - loss: 0.6367 - acc: 0.7765 - val_loss: 1.1883 - val_acc: 0.6333\n",
            "Epoch 26/100\n",
            "196/196 [==============================] - 7s 37ms/step - loss: 0.6155 - acc: 0.7822 - val_loss: 1.2011 - val_acc: 0.6388\n",
            "Epoch 27/100\n",
            "196/196 [==============================] - 7s 37ms/step - loss: 0.5905 - acc: 0.7933 - val_loss: 1.2063 - val_acc: 0.6389\n",
            "Epoch 28/100\n",
            "196/196 [==============================] - 7s 37ms/step - loss: 0.5769 - acc: 0.7974 - val_loss: 1.2109 - val_acc: 0.6423\n",
            "Epoch 29/100\n",
            "196/196 [==============================] - 7s 37ms/step - loss: 0.5590 - acc: 0.8035 - val_loss: 1.2177 - val_acc: 0.6418\n",
            "Epoch 30/100\n",
            "196/196 [==============================] - 7s 37ms/step - loss: 0.5426 - acc: 0.8092 - val_loss: 1.2346 - val_acc: 0.6387\n",
            "Epoch 31/100\n",
            "196/196 [==============================] - 7s 37ms/step - loss: 0.5277 - acc: 0.8131 - val_loss: 1.2288 - val_acc: 0.6464\n",
            "Epoch 32/100\n",
            "196/196 [==============================] - 7s 37ms/step - loss: 0.5081 - acc: 0.8219 - val_loss: 1.2478 - val_acc: 0.6403\n",
            "Epoch 33/100\n",
            "196/196 [==============================] - 7s 37ms/step - loss: 0.4931 - acc: 0.8265 - val_loss: 1.2565 - val_acc: 0.6418\n",
            "Epoch 34/100\n",
            "196/196 [==============================] - 7s 37ms/step - loss: 0.4783 - acc: 0.8335 - val_loss: 1.2646 - val_acc: 0.6436\n",
            "Epoch 35/100\n",
            "196/196 [==============================] - 7s 37ms/step - loss: 0.4638 - acc: 0.8369 - val_loss: 1.2854 - val_acc: 0.6447\n",
            "Epoch 36/100\n",
            "196/196 [==============================] - 7s 38ms/step - loss: 0.4525 - acc: 0.8413 - val_loss: 1.2941 - val_acc: 0.6443\n",
            "Epoch 37/100\n",
            "196/196 [==============================] - 7s 37ms/step - loss: 0.4421 - acc: 0.8437 - val_loss: 1.3070 - val_acc: 0.6428\n",
            "Epoch 38/100\n",
            "196/196 [==============================] - 7s 37ms/step - loss: 0.4235 - acc: 0.8524 - val_loss: 1.3200 - val_acc: 0.6438\n",
            "Epoch 39/100\n",
            "196/196 [==============================] - 7s 37ms/step - loss: 0.4109 - acc: 0.8560 - val_loss: 1.3309 - val_acc: 0.6427\n",
            "Epoch 40/100\n",
            "196/196 [==============================] - 7s 37ms/step - loss: 0.4048 - acc: 0.8579 - val_loss: 1.3490 - val_acc: 0.6406\n",
            "Epoch 41/100\n",
            "196/196 [==============================] - 7s 37ms/step - loss: 0.3891 - acc: 0.8637 - val_loss: 1.3540 - val_acc: 0.6445\n",
            "Epoch 42/100\n",
            "196/196 [==============================] - 7s 37ms/step - loss: 0.3797 - acc: 0.8675 - val_loss: 1.3705 - val_acc: 0.6421\n",
            "Epoch 43/100\n",
            "196/196 [==============================] - 7s 37ms/step - loss: 0.3702 - acc: 0.8712 - val_loss: 1.3828 - val_acc: 0.6447\n",
            "Epoch 44/100\n",
            "196/196 [==============================] - 7s 37ms/step - loss: 0.3611 - acc: 0.8719 - val_loss: 1.4066 - val_acc: 0.6445\n",
            "Epoch 45/100\n",
            "196/196 [==============================] - 7s 37ms/step - loss: 0.3523 - acc: 0.8772 - val_loss: 1.4183 - val_acc: 0.6413\n",
            "Epoch 46/100\n",
            "196/196 [==============================] - 7s 37ms/step - loss: 0.3426 - acc: 0.8804 - val_loss: 1.4331 - val_acc: 0.6440\n",
            "Epoch 47/100\n",
            "196/196 [==============================] - 7s 37ms/step - loss: 0.3346 - acc: 0.8813 - val_loss: 1.4389 - val_acc: 0.6453\n",
            "Epoch 48/100\n",
            "196/196 [==============================] - 7s 37ms/step - loss: 0.3289 - acc: 0.8844 - val_loss: 1.4625 - val_acc: 0.6425\n",
            "Epoch 49/100\n",
            "196/196 [==============================] - 7s 37ms/step - loss: 0.3205 - acc: 0.8890 - val_loss: 1.4785 - val_acc: 0.6419\n",
            "Epoch 50/100\n",
            "196/196 [==============================] - 7s 37ms/step - loss: 0.3104 - acc: 0.8904 - val_loss: 1.4716 - val_acc: 0.6431\n",
            "Epoch 51/100\n",
            "196/196 [==============================] - 7s 37ms/step - loss: 0.3058 - acc: 0.8925 - val_loss: 1.4828 - val_acc: 0.6382\n",
            "Epoch 52/100\n",
            "196/196 [==============================] - 7s 37ms/step - loss: 0.2952 - acc: 0.8975 - val_loss: 1.5122 - val_acc: 0.6409\n",
            "Epoch 53/100\n",
            "196/196 [==============================] - 7s 37ms/step - loss: 0.2926 - acc: 0.8983 - val_loss: 1.5258 - val_acc: 0.6454\n",
            "Epoch 54/100\n",
            "196/196 [==============================] - 7s 37ms/step - loss: 0.2817 - acc: 0.9018 - val_loss: 1.5223 - val_acc: 0.6453\n",
            "Epoch 55/100\n",
            "196/196 [==============================] - 7s 37ms/step - loss: 0.2780 - acc: 0.9033 - val_loss: 1.5429 - val_acc: 0.6420\n",
            "Epoch 56/100\n",
            "196/196 [==============================] - 7s 37ms/step - loss: 0.2737 - acc: 0.9039 - val_loss: 1.5640 - val_acc: 0.6413\n",
            "Epoch 57/100\n",
            "196/196 [==============================] - 7s 37ms/step - loss: 0.2662 - acc: 0.9078 - val_loss: 1.5723 - val_acc: 0.6415\n",
            "Epoch 58/100\n",
            "196/196 [==============================] - 7s 37ms/step - loss: 0.2571 - acc: 0.9094 - val_loss: 1.6052 - val_acc: 0.6449\n",
            "Epoch 59/100\n",
            "196/196 [==============================] - 7s 38ms/step - loss: 0.2562 - acc: 0.9108 - val_loss: 1.5956 - val_acc: 0.6403\n",
            "Epoch 60/100\n",
            "196/196 [==============================] - 7s 37ms/step - loss: 0.2500 - acc: 0.9124 - val_loss: 1.6261 - val_acc: 0.6428\n",
            "Epoch 61/100\n",
            "196/196 [==============================] - 7s 37ms/step - loss: 0.2495 - acc: 0.9135 - val_loss: 1.6334 - val_acc: 0.6402\n",
            "Epoch 62/100\n",
            "196/196 [==============================] - 7s 37ms/step - loss: 0.2412 - acc: 0.9169 - val_loss: 1.6488 - val_acc: 0.6416\n",
            "Epoch 63/100\n",
            "196/196 [==============================] - 7s 37ms/step - loss: 0.2400 - acc: 0.9164 - val_loss: 1.6653 - val_acc: 0.6390\n",
            "Epoch 64/100\n",
            "196/196 [==============================] - 7s 37ms/step - loss: 0.2354 - acc: 0.9172 - val_loss: 1.6652 - val_acc: 0.6400\n",
            "Epoch 65/100\n",
            "196/196 [==============================] - 7s 37ms/step - loss: 0.2322 - acc: 0.9180 - val_loss: 1.6782 - val_acc: 0.6373\n",
            "Epoch 66/100\n",
            "196/196 [==============================] - 7s 37ms/step - loss: 0.2238 - acc: 0.9224 - val_loss: 1.6949 - val_acc: 0.6416\n",
            "Epoch 67/100\n",
            "196/196 [==============================] - 7s 37ms/step - loss: 0.2183 - acc: 0.9245 - val_loss: 1.7061 - val_acc: 0.6410\n",
            "Epoch 68/100\n",
            "196/196 [==============================] - 7s 37ms/step - loss: 0.2136 - acc: 0.9269 - val_loss: 1.7057 - val_acc: 0.6405\n",
            "Epoch 69/100\n",
            "196/196 [==============================] - 7s 37ms/step - loss: 0.2123 - acc: 0.9254 - val_loss: 1.7261 - val_acc: 0.6415\n",
            "Epoch 70/100\n",
            "196/196 [==============================] - 7s 37ms/step - loss: 0.2147 - acc: 0.9257 - val_loss: 1.7369 - val_acc: 0.6418\n",
            "Epoch 71/100\n",
            "196/196 [==============================] - 7s 37ms/step - loss: 0.2102 - acc: 0.9273 - val_loss: 1.7466 - val_acc: 0.6418\n",
            "Epoch 72/100\n",
            "196/196 [==============================] - 7s 37ms/step - loss: 0.2060 - acc: 0.9299 - val_loss: 1.7652 - val_acc: 0.6436\n",
            "Epoch 73/100\n",
            "196/196 [==============================] - 7s 37ms/step - loss: 0.2015 - acc: 0.9299 - val_loss: 1.7824 - val_acc: 0.6429\n",
            "Epoch 74/100\n",
            "196/196 [==============================] - 7s 37ms/step - loss: 0.1991 - acc: 0.9309 - val_loss: 1.7924 - val_acc: 0.6366\n",
            "Epoch 75/100\n",
            "196/196 [==============================] - 7s 37ms/step - loss: 0.1931 - acc: 0.9341 - val_loss: 1.7879 - val_acc: 0.6437\n",
            "Epoch 76/100\n",
            "196/196 [==============================] - 7s 37ms/step - loss: 0.1894 - acc: 0.9351 - val_loss: 1.8183 - val_acc: 0.6370\n",
            "Epoch 77/100\n",
            "196/196 [==============================] - 7s 37ms/step - loss: 0.1872 - acc: 0.9352 - val_loss: 1.8352 - val_acc: 0.6381\n",
            "Epoch 78/100\n",
            "196/196 [==============================] - 7s 38ms/step - loss: 0.1859 - acc: 0.9367 - val_loss: 1.8364 - val_acc: 0.6407\n",
            "Epoch 79/100\n",
            "196/196 [==============================] - 7s 37ms/step - loss: 0.1810 - acc: 0.9372 - val_loss: 1.8534 - val_acc: 0.6434\n",
            "Epoch 80/100\n",
            "196/196 [==============================] - 7s 37ms/step - loss: 0.1835 - acc: 0.9367 - val_loss: 1.8686 - val_acc: 0.6408\n",
            "Epoch 81/100\n",
            "196/196 [==============================] - 7s 37ms/step - loss: 0.1757 - acc: 0.9389 - val_loss: 1.8830 - val_acc: 0.6422\n",
            "Epoch 82/100\n",
            "196/196 [==============================] - 7s 37ms/step - loss: 0.1784 - acc: 0.9389 - val_loss: 1.8875 - val_acc: 0.6433\n",
            "Epoch 83/100\n",
            "196/196 [==============================] - 7s 37ms/step - loss: 0.1778 - acc: 0.9384 - val_loss: 1.9238 - val_acc: 0.6423\n",
            "Epoch 84/100\n",
            "196/196 [==============================] - 7s 37ms/step - loss: 0.1728 - acc: 0.9407 - val_loss: 1.9222 - val_acc: 0.6424\n",
            "Epoch 85/100\n",
            "196/196 [==============================] - 7s 37ms/step - loss: 0.1726 - acc: 0.9407 - val_loss: 1.9275 - val_acc: 0.6435\n",
            "Epoch 86/100\n",
            "196/196 [==============================] - 7s 37ms/step - loss: 0.1670 - acc: 0.9425 - val_loss: 1.9470 - val_acc: 0.6402\n",
            "Epoch 87/100\n",
            "196/196 [==============================] - 7s 37ms/step - loss: 0.1639 - acc: 0.9433 - val_loss: 1.9623 - val_acc: 0.6423\n",
            "Epoch 88/100\n",
            "196/196 [==============================] - 7s 37ms/step - loss: 0.1641 - acc: 0.9432 - val_loss: 1.9655 - val_acc: 0.6407\n",
            "Epoch 89/100\n",
            "196/196 [==============================] - 7s 37ms/step - loss: 0.1629 - acc: 0.9441 - val_loss: 1.9968 - val_acc: 0.6410\n",
            "Epoch 90/100\n",
            "196/196 [==============================] - 7s 38ms/step - loss: 0.1618 - acc: 0.9436 - val_loss: 1.9940 - val_acc: 0.6446\n",
            "Epoch 91/100\n",
            "196/196 [==============================] - 7s 38ms/step - loss: 0.1597 - acc: 0.9466 - val_loss: 1.9950 - val_acc: 0.6366\n",
            "Epoch 92/100\n",
            "196/196 [==============================] - 7s 38ms/step - loss: 0.1557 - acc: 0.9455 - val_loss: 2.0209 - val_acc: 0.6404\n",
            "Epoch 93/100\n",
            "196/196 [==============================] - 7s 38ms/step - loss: 0.1533 - acc: 0.9471 - val_loss: 2.0211 - val_acc: 0.6386\n",
            "Epoch 94/100\n",
            "196/196 [==============================] - 7s 38ms/step - loss: 0.1528 - acc: 0.9479 - val_loss: 2.0417 - val_acc: 0.6389\n",
            "Epoch 95/100\n",
            "196/196 [==============================] - 7s 37ms/step - loss: 0.1543 - acc: 0.9474 - val_loss: 2.0420 - val_acc: 0.6405\n",
            "Epoch 96/100\n",
            "196/196 [==============================] - 7s 38ms/step - loss: 0.1493 - acc: 0.9482 - val_loss: 2.0581 - val_acc: 0.6438\n",
            "Epoch 97/100\n",
            "196/196 [==============================] - 7s 37ms/step - loss: 0.1514 - acc: 0.9482 - val_loss: 2.0770 - val_acc: 0.6409\n",
            "Epoch 98/100\n",
            "196/196 [==============================] - 7s 37ms/step - loss: 0.1458 - acc: 0.9488 - val_loss: 2.0628 - val_acc: 0.6446\n",
            "Epoch 99/100\n",
            "196/196 [==============================] - 7s 37ms/step - loss: 0.1442 - acc: 0.9506 - val_loss: 2.0828 - val_acc: 0.6426\n",
            "Epoch 100/100\n",
            "196/196 [==============================] - 7s 37ms/step - loss: 0.1426 - acc: 0.9514 - val_loss: 2.0869 - val_acc: 0.6400\n"
          ]
        }
      ]
    },
    {
      "cell_type": "code",
      "source": [
        "acc = history.history['acc']\n",
        "val_acc = history.history['val_acc']\n",
        "loss = history.history['loss']\n",
        "val_loss = history.history['val_loss']\n",
        "\n",
        "epochs = range(len(acc))\n",
        "\n",
        "plt.plot(epochs, acc, 'b', label='Training acc')\n",
        "plt.plot(epochs, val_acc, 'r', label='Validation acc')\n",
        "plt.title('Training and validation accuracy')\n",
        "plt.legend()\n",
        "\n",
        "plt.figure()\n",
        "\n",
        "plt.plot(epochs, loss, 'b', label='Training loss')\n",
        "plt.plot(epochs, val_loss, 'r', label='Validation loss')\n",
        "plt.title('Training and validation loss')\n",
        "plt.legend()\n",
        "\n",
        "plt.show()"
      ],
      "metadata": {
        "id": "jlawHULveXGo",
        "colab": {
          "base_uri": "https://localhost:8080/",
          "height": 545
        },
        "outputId": "394edabb-acd0-4e73-a21e-06e3c464410a"
      },
      "execution_count": 9,
      "outputs": [
        {
          "output_type": "display_data",
          "data": {
            "text/plain": [
              "<Figure size 432x288 with 1 Axes>"
            ],
            "image/png": "[encoded data removed]"
          },
          "metadata": {
            "needs_background": "light"
          }
        },
        {
          "output_type": "display_data",
          "data": {
            "text/plain": [
              "<Figure size 432x288 with 1 Axes>"
            ],
            "image/png": "[encoded data removed]"
          },
          "metadata": {
            "needs_background": "light"
          }
        }
      ]
    }
  ]
}